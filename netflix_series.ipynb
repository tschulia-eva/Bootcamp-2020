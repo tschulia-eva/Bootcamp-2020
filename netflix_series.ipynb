{
 "cells": [
  {
   "cell_type": "code",
   "execution_count": 3,
   "metadata": {},
   "outputs": [],
   "source": [
    "#idea was to creat a simple \"machine learnig\" project\n",
    "#three excel columns with age, gender (0, 1) and series\n",
    "#structur: 1.create an excel file 2.import data, 3.clean data, 4.split the data into training and testing set, 5.create a model\n",
    "#run predictions and accuracy score\n",
    "\n",
    "#set up enviroment\n",
    "import pandas as pd\n",
    "#created a model with an machine learning algorithm -> used DecisionTree from the scikit-learn library\n",
    "from sklearn.tree import DecisionTreeClassifier\n",
    "#splitted the excel data into two sets: training and testing\n",
    "from sklearn.model_selection import train_test_split\n",
    "#imported a function called accuracy_score -> from the scikit-learn library\n",
    "from sklearn.metrics import accuracy_score"
   ]
  },
  {
   "cell_type": "code",
   "execution_count": 4,
   "metadata": {},
   "outputs": [
    {
     "data": {
      "text/html": [
       "<div>\n",
       "<style scoped>\n",
       "    .dataframe tbody tr th:only-of-type {\n",
       "        vertical-align: middle;\n",
       "    }\n",
       "\n",
       "    .dataframe tbody tr th {\n",
       "        vertical-align: top;\n",
       "    }\n",
       "\n",
       "    .dataframe thead th {\n",
       "        text-align: right;\n",
       "    }\n",
       "</style>\n",
       "<table border=\"1\" class=\"dataframe\">\n",
       "  <thead>\n",
       "    <tr style=\"text-align: right;\">\n",
       "      <th></th>\n",
       "      <th>age</th>\n",
       "      <th>gender</th>\n",
       "      <th>series</th>\n",
       "    </tr>\n",
       "  </thead>\n",
       "  <tbody>\n",
       "    <tr>\n",
       "      <th>0</th>\n",
       "      <td>20</td>\n",
       "      <td>1</td>\n",
       "      <td>Rick_and_Morty</td>\n",
       "    </tr>\n",
       "    <tr>\n",
       "      <th>1</th>\n",
       "      <td>23</td>\n",
       "      <td>1</td>\n",
       "      <td>Rick_and_Morty</td>\n",
       "    </tr>\n",
       "    <tr>\n",
       "      <th>2</th>\n",
       "      <td>25</td>\n",
       "      <td>1</td>\n",
       "      <td>Rick_and_Morty</td>\n",
       "    </tr>\n",
       "    <tr>\n",
       "      <th>3</th>\n",
       "      <td>26</td>\n",
       "      <td>1</td>\n",
       "      <td>Game_of_Thrones</td>\n",
       "    </tr>\n",
       "    <tr>\n",
       "      <th>4</th>\n",
       "      <td>29</td>\n",
       "      <td>1</td>\n",
       "      <td>Game_of_Thrones</td>\n",
       "    </tr>\n",
       "  </tbody>\n",
       "</table>\n",
       "</div>"
      ],
      "text/plain": [
       "   age  gender           series\n",
       "0   20       1   Rick_and_Morty\n",
       "1   23       1   Rick_and_Morty\n",
       "2   25       1   Rick_and_Morty\n",
       "3   26       1  Game_of_Thrones\n",
       "4   29       1  Game_of_Thrones"
      ]
     },
     "execution_count": 4,
     "metadata": {},
     "output_type": "execute_result"
    }
   ],
   "source": [
    "#import data\n",
    "dataset = pd.read_csv('netflix_series.csv')\n",
    "dataset.head()"
   ]
  },
  {
   "cell_type": "code",
   "execution_count": 5,
   "metadata": {},
   "outputs": [],
   "source": [
    "#defined input \"I\" and output \"O\"\n",
    "I= dataset.drop(columns= ['series']) #input data_set\n",
    "O= dataset['series'] #output data_set\n",
    "I_train, I_test, O_train, O_test = train_test_split(I, O, test_size= 0.2) #used 20% for testing and 80% for training\n",
    "#if I change the ratio of training and testing (example: 80% testing and only 20% training the accuracy score will drop."
   ]
  },
  {
   "cell_type": "code",
   "execution_count": 6,
   "metadata": {},
   "outputs": [
    {
     "name": "stdout",
     "output_type": "stream",
     "text": [
      "['Adventure_Time' 'The_Golden_Girls' 'Stranger_Things' 'Game_of_Thrones'\n",
      " 'Game_of_Thrones']\n"
     ]
    }
   ],
   "source": [
    "model= DecisionTreeClassifier()\n",
    "#train the model \n",
    "model.fit(I_train, O_train)\n",
    "#make predictions, new record in the table\n",
    "predictions= model.predict(I_test)\n",
    "print(predictions)"
   ]
  },
  {
   "cell_type": "code",
   "execution_count": 7,
   "metadata": {},
   "outputs": [
    {
     "name": "stdout",
     "output_type": "stream",
     "text": [
      "Accuracy of Decision Tree classifier on training set: 1.00\n",
      "Accuracy of Decision Tree classifier on test set: 1.00\n"
     ]
    }
   ],
   "source": [
    "#creat a accuracy score\n",
    "model = DecisionTreeClassifier().fit(I_train, O_train)\n",
    "\n",
    "print('Accuracy of Decision Tree classifier on training set: {:.2f}'\n",
    "     .format(model.score(I_train, O_train)))\n",
    "print('Accuracy of Decision Tree classifier on test set: {:.2f}'\n",
    "     .format(model.score(I_test, O_test)))"
   ]
  }
 ],
 "metadata": {
  "kernelspec": {
   "display_name": "Python 3",
   "language": "python",
   "name": "python3"
  },
  "language_info": {
   "codemirror_mode": {
    "name": "ipython",
    "version": 3
   },
   "file_extension": ".py",
   "mimetype": "text/x-python",
   "name": "python",
   "nbconvert_exporter": "python",
   "pygments_lexer": "ipython3",
   "version": "3.7.6"
  }
 },
 "nbformat": 4,
 "nbformat_minor": 4
}
